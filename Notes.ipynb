{
 "cells": [
  {
   "attachments": {},
   "cell_type": "markdown",
   "metadata": {},
   "source": [
    "# Documentation"
   ]
  },
  {
   "attachments": {},
   "cell_type": "markdown",
   "metadata": {},
   "source": [
    "## CrateDB\n",
    "\n",
    "+ Getting Started: https://github.com/crate/crate/blob/master/devs/docs/basics.rst\n",
    "+ Snapshots: https://crate.io/docs/crate/reference/en/5.3/admin/snapshots.html\n",
    "+ Google Cloud as Repository: https://github.com/crate/crate/issues/13879\n",
    "+ Logger configuration is located in `sandbox/crate/config/log4j2.properties`."
   ]
  },
  {
   "attachments": {},
   "cell_type": "markdown",
   "metadata": {},
   "source": [
    "## CrateDB Repository plugin\n",
    "\n",
    "+ License notices: `3RD-PARTY-NOTICES.md`\n",
    "+ Build inclusion: `app/build.gradle`, `app/settings.gradle` (?)\n",
    "+ Java dependency versions: `gradle/version.properties`\n",
    "+ Java dependencies: `plugins/xxx/build.gradle`\n",
    "+ Repository base class: `BlobStoreRepository`\n",
    "+ Blob container wrapper: `AbstractBlobContainer`"
   ]
  },
  {
   "attachments": {},
   "cell_type": "markdown",
   "metadata": {},
   "source": [
    "## Google Cloud Storage\n",
    "\n",
    "+ Java client: https://cloud.google.com/java/docs/reference/google-cloud-storage/latest/overview\n",
    "+ Mock server: https://github.com/fsouza/fake-gcs-server"
   ]
  },
  {
   "attachments": {},
   "cell_type": "markdown",
   "metadata": {},
   "source": [
    "## LocalStack\n",
    "\n",
    "+ Creating an S3 bucket: https://docs.localstack.cloud/user-guide/aws/s3/\n",
    "+ More S3 examples: https://gist.github.com/sats17/493d05d8d4dfd16b7dad399163075156#file-localstack-s3-example-txt\n",
    "+ Any credentials work: https://github.com/localstack/localstack/issues/62#issuecomment-294749459"
   ]
  }
 ],
 "metadata": {
  "language_info": {
   "name": "python"
  },
  "orig_nbformat": 4
 },
 "nbformat": 4,
 "nbformat_minor": 2
}

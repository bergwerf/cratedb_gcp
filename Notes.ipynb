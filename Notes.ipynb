{
 "cells": [
  {
   "attachments": {},
   "cell_type": "markdown",
   "metadata": {},
   "source": [
    "# Documentation"
   ]
  },
  {
   "attachments": {},
   "cell_type": "markdown",
   "metadata": {},
   "source": [
    "## CrateDB\n",
    "\n",
    "+ Getting Started: https://github.com/crate/crate/blob/master/devs/docs/basics.rst\n",
    "+ Snapshots: https://crate.io/docs/crate/reference/en/5.3/admin/snapshots.html\n",
    "+ Google Cloud as Repository: https://github.com/crate/crate/issues/13879"
   ]
  },
  {
   "attachments": {},
   "cell_type": "markdown",
   "metadata": {},
   "source": [
    "## LocalStack\n",
    "\n",
    "+ Local S3 buckets: https://medium.com/swlh/how-to-mock-aws-services-in-local-development-e231852e8a0f"
   ]
  }
 ],
 "metadata": {
  "language_info": {
   "name": "python"
  },
  "orig_nbformat": 4
 },
 "nbformat": 4,
 "nbformat_minor": 2
}

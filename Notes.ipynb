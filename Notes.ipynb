{
 "cells": [
  {
   "attachments": {},
   "cell_type": "markdown",
   "metadata": {},
   "source": [
    "# Documentation"
   ]
  },
  {
   "attachments": {},
   "cell_type": "markdown",
   "metadata": {},
   "source": [
    "## CrateDB\n",
    "\n",
    "+ Getting Started: https://github.com/crate/crate/blob/master/devs/docs/basics.rst\n",
    "+ Snapshots: https://crate.io/docs/crate/reference/en/5.3/admin/snapshots.html\n",
    "+ Google Cloud as Repository: https://github.com/crate/crate/issues/13879"
   ]
  },
  {
   "attachments": {},
   "cell_type": "markdown",
   "metadata": {},
   "source": [
    "## LocalStack\n",
    "\n",
    "+ Creating an S3 bucket: https://docs.localstack.cloud/user-guide/aws/s3/\n",
    "+ More S3 examples: https://gist.github.com/sats17/493d05d8d4dfd16b7dad399163075156#file-localstack-s3-example-txt\n",
    "+ Any credentials work: https://github.com/localstack/localstack/issues/62#issuecomment-294749459"
   ]
  }
 ],
 "metadata": {
  "language_info": {
   "name": "python"
  },
  "orig_nbformat": 4
 },
 "nbformat": 4,
 "nbformat_minor": 2
}
